{
 "cells": [
  {
   "cell_type": "code",
   "execution_count": 2,
   "metadata": {},
   "outputs": [],
   "source": [
    "import numpy as np\n",
    "from langchain_community.embeddings import HuggingFaceBgeEmbeddings\n",
    "from langchain_community.llms import HuggingFacePipeline\n",
    "from langchain_community.document_loaders import PyPDFDirectoryLoader\n",
    "from langchain.text_splitter import RecursiveCharacterTextSplitter\n",
    "from langchain_community.vectorstores import FAISS\n",
    "from langchain.chains import RetrievalQA\n",
    "from langchain.prompts import PromptTemplate"
   ]
  },
  {
   "cell_type": "code",
   "execution_count": 3,
   "metadata": {},
   "outputs": [],
   "source": [
    "loader = PyPDFDirectoryLoader('./docs')\n",
    "docs_before_split = loader.load()\n",
    "text_splitter = RecursiveCharacterTextSplitter(\n",
    "    chunk_size=700,\n",
    "    chunk_overlap=50,\n",
    ")\n",
    "docs_after_split = text_splitter.split_documents(docs_before_split)"
   ]
  },
  {
   "cell_type": "code",
   "execution_count": 4,
   "metadata": {},
   "outputs": [
    {
     "data": {
      "text/plain": [
       "7141"
      ]
     },
     "execution_count": 4,
     "metadata": {},
     "output_type": "execute_result"
    }
   ],
   "source": [
    "len(docs_after_split)"
   ]
  },
  {
   "cell_type": "code",
   "execution_count": 5,
   "metadata": {},
   "outputs": [
    {
     "name": "stdout",
     "output_type": "stream",
     "text": [
      "ensure limitations for extending those devices are not exceeded. Practicing this maneuver in other configurations, such as a clean or \n",
      "takeoff configuration, is also good training and may be evaluated on the practical test. \n",
      "With an AOA just under the AOA which may cause an aerodynamic buffet or stall warning, the flight controls are less effective . \n",
      "[Figure 5-7] The elevator control is less responsive and larger control movements are necessary to retain control of the airplane. In \n",
      "propeller-driven airplanes, torque, slipstream effect, and P-factor may produce a strong left yaw, which requires right rudder input to\n"
     ]
    }
   ],
   "source": [
    "print(docs_after_split[500].page_content)"
   ]
  },
  {
   "cell_type": "code",
   "execution_count": 6,
   "metadata": {},
   "outputs": [
    {
     "name": "stderr",
     "output_type": "stream",
     "text": [
      "/tmp/ipykernel_18934/2100041955.py:1: LangChainDeprecationWarning: The class `HuggingFaceBgeEmbeddings` was deprecated in LangChain 0.2.2 and will be removed in 1.0. An updated version of the class exists in the :class:`~langchain-huggingface package and should be used instead. To use it run `pip install -U :class:`~langchain-huggingface` and import as `from :class:`~langchain_huggingface import HuggingFaceEmbeddings``.\n",
      "  hf_embeddings = HuggingFaceBgeEmbeddings(\n",
      "/home/ganesh/envs/ml/lib/python3.12/site-packages/tqdm/auto.py:21: TqdmWarning: IProgress not found. Please update jupyter and ipywidgets. See https://ipywidgets.readthedocs.io/en/stable/user_install.html\n",
      "  from .autonotebook import tqdm as notebook_tqdm\n"
     ]
    }
   ],
   "source": [
    "hf_embeddings = HuggingFaceBgeEmbeddings(\n",
    "    model_name='sentence-transformers/all-MiniLM-l6-v2',\n",
    "    model_kwargs={'device': 'cuda'},\n",
    "    encode_kwargs={'normalize_embeddings': True}\n",
    ")"
   ]
  },
  {
   "cell_type": "code",
   "execution_count": 7,
   "metadata": {},
   "outputs": [
    {
     "data": {
      "text/plain": [
       "(384,)"
      ]
     },
     "execution_count": 7,
     "metadata": {},
     "output_type": "execute_result"
    }
   ],
   "source": [
    "sample_embedding = np.array(hf_embeddings.embed_query(docs_after_split[0].page_content))\n",
    "sample_embedding.shape"
   ]
  },
  {
   "cell_type": "code",
   "execution_count": 8,
   "metadata": {},
   "outputs": [
    {
     "data": {
      "text/plain": [
       "7141"
      ]
     },
     "execution_count": 8,
     "metadata": {},
     "output_type": "execute_result"
    }
   ],
   "source": [
    "index = FAISS.from_documents(docs_after_split, hf_embeddings)\n",
    "index.index.ntotal"
   ]
  },
  {
   "cell_type": "code",
   "execution_count": 25,
   "metadata": {},
   "outputs": [],
   "source": [
    "retriever = index.as_retriever(\n",
    "    search_type='mmr', \n",
    "    search_kwargs={'k': 3}\n",
    ")"
   ]
  },
  {
   "cell_type": "code",
   "execution_count": null,
   "metadata": {},
   "outputs": [
    {
     "name": "stderr",
     "output_type": "stream",
     "text": [
      "Downloading shards: 100%|██████████| 3/3 [06:31<00:00, 130.50s/it]\n",
      "Loading checkpoint shards: 100%|██████████| 3/3 [00:00<00:00,  7.62it/s]\n"
     ]
    }
   ],
   "source": [
    "hf = HuggingFacePipeline.from_model_id(\n",
    "    model_id='google/gemma-2-2b',\n",
    "    task='text-generation',\n",
    "    device=0,\n",
    "    pipeline_kwargs={'max_new_tokens': 1000}\n",
    ")"
   ]
  },
  {
   "cell_type": "code",
   "execution_count": null,
   "metadata": {},
   "outputs": [],
   "source": [
    "prompt_template = \"\"\"Use the following pieces of context to answer the question at the end. Please follow the following rules:\n",
    "1. If you don't know the answer, don't try to make up an answer. Just say \"I can't find the final answer but you may want to check the following links\".\n",
    "2. If you find the answer, write the answer in a concise way with five sentences maximum. Do not repeat yourself.\n",
    "\n",
    "Context: \n",
    "{context}\n",
    "\n",
    "Question: \n",
    "{question}\n",
    "\n",
    "Helpful Answer:\n",
    "\"\"\"\n",
    "\n",
    "PROMPT = PromptTemplate(\n",
    "    template=prompt_template, \n",
    "    input_variables=['context', 'question']\n",
    ")"
   ]
  },
  {
   "cell_type": "code",
   "execution_count": 39,
   "metadata": {},
   "outputs": [],
   "source": [
    "qa = RetrievalQA.from_chain_type(\n",
    "    llm=hf,\n",
    "    chain_type='stuff',\n",
    "    retriever=retriever,\n",
    "    return_source_documents=True,\n",
    "    chain_type_kwargs={'prompt': PROMPT}\n",
    ")"
   ]
  },
  {
   "cell_type": "code",
   "execution_count": 73,
   "metadata": {},
   "outputs": [],
   "source": [
    "query = \"What is a VOR?\""
   ]
  },
  {
   "cell_type": "code",
   "execution_count": 74,
   "metadata": {},
   "outputs": [
    {
     "data": {
      "text/plain": [
       "{'query': 'What is a VOR?',\n",
       " 'result': 'Use the following pieces of context to answer the question at the end. Please follow the following rules:\\n1. If you don\\'t know the answer, don\\'t try to make up an answer. Just say \"I can\\'t find the final answer but you may want to check the following links\".\\n2. If you find the answer, write the answer in a concise way with five sentences maximum.\\n\\nContext: \\nVORTAC. By itself it is known as a VOR, and it provides \\nmagnetic bearing information to and from the station. When \\nDME is also installed with a VOR, the NAVAID is referred \\nto as a VOR/DME. When military tactical air navigation \\n(TACAN) equipment is installed with a VOR, the NAVAID \\nis known as a VORTAC. DME is always an integral part of \\na VORTAC. Regardless of the type of NAVAID utilized \\n(VOR, VOR/DME, or VORTAC), the VOR indicator \\nbehaves the same. Unless otherwise noted in this section, \\nVOR, VOR/DME, and VORTAC NAVAIDs are all referred \\nto hereafter as VORs.\\nThe prefix “omni-” means all, and an omnidirectional range \\nis a VHF radio transmitting ground station that projects\\n\\n• Traffic patterns—entries into traffic patterns while\\ndescending should be avoided.\\n• Traffic at VOR sites—due to converging traffic,\\nsustained vigilance should be  maintained in the\\nvicinity of VORs and intersections.\\n• Training operations—vigilance should be maintained and\\nclearing turns should \\nbe made prior to a practice\\nmaneuver. During instruction, the pilot should be asked\\nto verbalize the clearing procedures (call out “clear left,\\nright, above, and below”).\\n\\nprohibited, is subject to restriction.\\nReverse sensing. The VOR needle appearing to indicate the \\nreverse of normal operation.\\n\\nQuestion: \\nWhat is a VOR?\\n\\nHelpful Answer:\\nA VOR is a radio navigation aid that provides a \\nmagnetic bearing to and from the station.',\n",
       " 'source_documents': [Document(id='dd356f19-c9fc-46f8-95ef-cb428190b404', metadata={'producer': 'Adobe PDF Library 15.0', 'creator': 'Adobe InDesign CC 2015 (Windows)', 'creationdate': '2016-08-23T13:03:29-05:00', 'author': 'FAA', 'moddate': '2023-07-17T12:03:08-04:00', 'title': 'PHAK Front Matter', 'source': \"docs/Pilot's Handbook of Aeronautical Knowledge.pdf\", 'total_pages': 522, 'page': 408, 'page_label': '409'}, page_content='VORTAC. By itself it is known as a VOR, and it provides \\nmagnetic bearing information to and from the station. When \\nDME is also installed with a VOR, the NAVAID is referred \\nto as a VOR/DME. When military tactical air navigation \\n(TACAN) equipment is installed with a VOR, the NAVAID \\nis known as a VORTAC. DME is always an integral part of \\na VORTAC. Regardless of the type of NAVAID utilized \\n(VOR, VOR/DME, or VORTAC), the VOR indicator \\nbehaves the same. Unless otherwise noted in this section, \\nVOR, VOR/DME, and VORTAC NAVAIDs are all referred \\nto hereafter as VORs.\\nThe prefix “omni-” means all, and an omnidirectional range \\nis a VHF radio transmitting ground station that projects'),\n",
       "  Document(id='b3f50ce8-2d2f-41fd-b1ba-face49581f9e', metadata={'producer': 'Adobe PDF Library 15.0', 'creator': 'Adobe InDesign CC 2015 (Windows)', 'creationdate': '2016-08-23T13:03:29-05:00', 'author': 'FAA', 'moddate': '2023-07-17T12:03:08-04:00', 'title': 'PHAK Front Matter', 'source': \"docs/Pilot's Handbook of Aeronautical Knowledge.pdf\", 'total_pages': 522, 'page': 361, 'page_label': '362'}, page_content='• Traffic patterns—entries into traffic patterns while\\ndescending should be avoided.\\n• Traffic at VOR sites—due to converging traffic,\\nsustained vigilance should be  maintained in the\\nvicinity of VORs and intersections.\\n• Training operations—vigilance should be maintained and\\nclearing turns should \\nbe made prior to a practice\\nmaneuver. During instruction, the pilot should be asked\\nto verbalize the clearing procedures (call out “clear left,\\nright, above, and below”).'),\n",
       "  Document(id='e10b0070-6342-4be8-b447-25c1d3ad70a3', metadata={'producer': 'Adobe PDF Library 15.0', 'creator': 'Adobe InDesign CC 2015 (Windows)', 'creationdate': '2016-08-23T13:03:29-05:00', 'author': 'FAA', 'moddate': '2023-07-17T12:03:08-04:00', 'title': 'PHAK Front Matter', 'source': \"docs/Pilot's Handbook of Aeronautical Knowledge.pdf\", 'total_pages': 522, 'page': 500, 'page_label': '501'}, page_content='prohibited, is subject to restriction.\\nReverse sensing. The VOR needle appearing to indicate the \\nreverse of normal operation.')]}"
      ]
     },
     "execution_count": 74,
     "metadata": {},
     "output_type": "execute_result"
    }
   ],
   "source": [
    "result = qa.invoke({'query': query})\n",
    "result"
   ]
  },
  {
   "cell_type": "code",
   "execution_count": 75,
   "metadata": {},
   "outputs": [
    {
     "name": "stdout",
     "output_type": "stream",
     "text": [
      "Use the following pieces of context to answer the question at the end. Please follow the following rules:\n",
      "1. If you don't know the answer, don't try to make up an answer. Just say \"I can't find the final answer but you may want to check the following links\".\n",
      "2. If you find the answer, write the answer in a concise way with five sentences maximum.\n",
      "\n",
      "Context: \n",
      "VORTAC. By itself it is known as a VOR, and it provides \n",
      "magnetic bearing information to and from the station. When \n",
      "DME is also installed with a VOR, the NAVAID is referred \n",
      "to as a VOR/DME. When military tactical air navigation \n",
      "(TACAN) equipment is installed with a VOR, the NAVAID \n",
      "is known as a VORTAC. DME is always an integral part of \n",
      "a VORTAC. Regardless of the type of NAVAID utilized \n",
      "(VOR, VOR/DME, or VORTAC), the VOR indicator \n",
      "behaves the same. Unless otherwise noted in this section, \n",
      "VOR, VOR/DME, and VORTAC NAVAIDs are all referred \n",
      "to hereafter as VORs.\n",
      "The prefix “omni-” means all, and an omnidirectional range \n",
      "is a VHF radio transmitting ground station that projects\n",
      "\n",
      "• Traffic patterns—entries into traffic patterns while\n",
      "descending should be avoided.\n",
      "• Traffic at VOR sites—due to converging traffic,\n",
      "sustained vigilance should be  maintained in the\n",
      "vicinity of VORs and intersections.\n",
      "• Training operations—vigilance should be maintained and\n",
      "clearing turns should \n",
      "be made prior to a practice\n",
      "maneuver. During instruction, the pilot should be asked\n",
      "to verbalize the clearing procedures (call out “clear left,\n",
      "right, above, and below”).\n",
      "\n",
      "prohibited, is subject to restriction.\n",
      "Reverse sensing. The VOR needle appearing to indicate the \n",
      "reverse of normal operation.\n",
      "\n",
      "Question: \n",
      "What is a VOR?\n",
      "\n",
      "Helpful Answer:\n",
      "A VOR is a radio navigation aid that provides a \n",
      "magnetic bearing to and from the station.\n"
     ]
    }
   ],
   "source": [
    "print(result['result'])"
   ]
  },
  {
   "cell_type": "code",
   "execution_count": 76,
   "metadata": {},
   "outputs": [
    {
     "name": "stdout",
     "output_type": "stream",
     "text": [
      "1. docs/Pilot's Handbook of Aeronautical Knowledge.pdf, pg. 408\n",
      "2. docs/Pilot's Handbook of Aeronautical Knowledge.pdf, pg. 361\n",
      "3. docs/Pilot's Handbook of Aeronautical Knowledge.pdf, pg. 500\n"
     ]
    }
   ],
   "source": [
    "for i, document in enumerate(result['source_documents']):\n",
    "    print(f\"{i + 1}. {document.metadata['source']}, pg. {document.metadata['page']}\")"
   ]
  }
 ],
 "metadata": {
  "kernelspec": {
   "display_name": "ml",
   "language": "python",
   "name": "python3"
  },
  "language_info": {
   "codemirror_mode": {
    "name": "ipython",
    "version": 3
   },
   "file_extension": ".py",
   "mimetype": "text/x-python",
   "name": "python",
   "nbconvert_exporter": "python",
   "pygments_lexer": "ipython3",
   "version": "3.12.3"
  }
 },
 "nbformat": 4,
 "nbformat_minor": 2
}
